{
 "cells": [
  {
   "cell_type": "markdown",
   "metadata": {},
   "source": [
    "# ECON 421\n",
    "Shruti Rao \n",
    "20455421 \n",
    "5 March, 2018"
   ]
  },
  {
   "cell_type": "markdown",
   "metadata": {},
   "source": [
    "## Assignment 1 - Modeling Housing Sale Price"
   ]
  },
  {
   "cell_type": "markdown",
   "metadata": {},
   "source": [
    "The goal of this assignment is to build a model to predict selling price of house. Various packages are imported to perform analysis and the dataset is imported."
   ]
  },
  {
   "cell_type": "code",
   "execution_count": 151,
   "metadata": {},
   "outputs": [],
   "source": [
    "import numpy as np\n",
    "import pandas as pd\n",
    "import matplotlib.pyplot as plt\n",
    "import seaborn as sns\n",
    "import patsy\n",
    "\n",
    "from sklearn.linear_model import LinearRegression\n",
    "import statsmodels.formula.api as smf\n",
    "import statsmodels.stats.api as sms\n",
    "import statsmodels.api as sm\n",
    "\n",
    "from statsmodels.sandbox.regression.predstd import wls_prediction_std\n",
    "from statsmodels.iolib.table import (SimpleTable, default_txt_fmt)\n",
    "from sklearn import datasets, linear_model\n",
    "\n",
    "% matplotlib inline"
   ]
  },
  {
   "cell_type": "code",
   "execution_count": 152,
   "metadata": {},
   "outputs": [],
   "source": [
    "df = pd.read_csv(\"./dataset1.csv\")"
   ]
  },
  {
   "cell_type": "markdown",
   "metadata": {},
   "source": [
    "Once the dataset is loaded in, it must be examined to see what explanatory variables are present in the dataset as these variables will be used later for predicting housing sale prices. "
   ]
  },
  {
   "cell_type": "code",
   "execution_count": 153,
   "metadata": {},
   "outputs": [
    {
     "data": {
      "text/html": [
       "<div>\n",
       "<style scoped>\n",
       "    .dataframe tbody tr th:only-of-type {\n",
       "        vertical-align: middle;\n",
       "    }\n",
       "\n",
       "    .dataframe tbody tr th {\n",
       "        vertical-align: top;\n",
       "    }\n",
       "\n",
       "    .dataframe thead th {\n",
       "        text-align: right;\n",
       "    }\n",
       "</style>\n",
       "<table border=\"1\" class=\"dataframe\">\n",
       "  <thead>\n",
       "    <tr style=\"text-align: right;\">\n",
       "      <th></th>\n",
       "      <th>price</th>\n",
       "      <th>sqft</th>\n",
       "      <th>Bedrooms</th>\n",
       "      <th>Baths</th>\n",
       "      <th>Age</th>\n",
       "      <th>Owner</th>\n",
       "      <th>Pool</th>\n",
       "      <th>Traditional</th>\n",
       "      <th>Fireplace</th>\n",
       "      <th>Waterfront</th>\n",
       "    </tr>\n",
       "  </thead>\n",
       "  <tbody>\n",
       "    <tr>\n",
       "      <th>0</th>\n",
       "      <td>66500</td>\n",
       "      <td>741</td>\n",
       "      <td>1</td>\n",
       "      <td>1</td>\n",
       "      <td>18</td>\n",
       "      <td>1</td>\n",
       "      <td>1</td>\n",
       "      <td>1</td>\n",
       "      <td>1</td>\n",
       "      <td>0</td>\n",
       "    </tr>\n",
       "    <tr>\n",
       "      <th>1</th>\n",
       "      <td>66000</td>\n",
       "      <td>741</td>\n",
       "      <td>1</td>\n",
       "      <td>1</td>\n",
       "      <td>18</td>\n",
       "      <td>0</td>\n",
       "      <td>1</td>\n",
       "      <td>1</td>\n",
       "      <td>0</td>\n",
       "      <td>0</td>\n",
       "    </tr>\n",
       "    <tr>\n",
       "      <th>2</th>\n",
       "      <td>68500</td>\n",
       "      <td>790</td>\n",
       "      <td>1</td>\n",
       "      <td>1</td>\n",
       "      <td>18</td>\n",
       "      <td>1</td>\n",
       "      <td>0</td>\n",
       "      <td>1</td>\n",
       "      <td>1</td>\n",
       "      <td>0</td>\n",
       "    </tr>\n",
       "    <tr>\n",
       "      <th>3</th>\n",
       "      <td>102000</td>\n",
       "      <td>2783</td>\n",
       "      <td>2</td>\n",
       "      <td>2</td>\n",
       "      <td>18</td>\n",
       "      <td>1</td>\n",
       "      <td>0</td>\n",
       "      <td>1</td>\n",
       "      <td>1</td>\n",
       "      <td>0</td>\n",
       "    </tr>\n",
       "    <tr>\n",
       "      <th>4</th>\n",
       "      <td>54000</td>\n",
       "      <td>1165</td>\n",
       "      <td>2</td>\n",
       "      <td>1</td>\n",
       "      <td>35</td>\n",
       "      <td>0</td>\n",
       "      <td>0</td>\n",
       "      <td>1</td>\n",
       "      <td>0</td>\n",
       "      <td>0</td>\n",
       "    </tr>\n",
       "  </tbody>\n",
       "</table>\n",
       "</div>"
      ],
      "text/plain": [
       "    price  sqft  Bedrooms  Baths  Age  Owner  Pool  Traditional  Fireplace  \\\n",
       "0   66500   741         1      1   18      1     1            1          1   \n",
       "1   66000   741         1      1   18      0     1            1          0   \n",
       "2   68500   790         1      1   18      1     0            1          1   \n",
       "3  102000  2783         2      2   18      1     0            1          1   \n",
       "4   54000  1165         2      1   35      0     0            1          0   \n",
       "\n",
       "   Waterfront  \n",
       "0           0  \n",
       "1           0  \n",
       "2           0  \n",
       "3           0  \n",
       "4           0  "
      ]
     },
     "execution_count": 153,
     "metadata": {},
     "output_type": "execute_result"
    }
   ],
   "source": [
    "df.head()"
   ]
  },
  {
   "cell_type": "markdown",
   "metadata": {},
   "source": [
    "From the table above, the dataset contains `sqft`, `Bedrooms`, `Baths`, `Age`, `Owner`, `Pool`, `Traditional`, `Fireplace` and `Waterfront`. Without any statistical analysis, the effects of the variables on price are intuitively discussed:\n",
    "    * sqft - The square feet or area of the house would determine its price so usually a house with a larger area would be more expensive.\n",
    "    * Bedrooms - The number of bedrooms too dictate the sale price of the house. Number of bedrooms are also related to the area as a house with a 5 bedrooms would usually have a larger area than a house with just 2 bedrooms. \n",
    "    * Baths - Similar to the idea of having number of bedrooms, the greater the number of baths, the more the price of the house.\n",
    "    * Age - This factor is area specific and it's relationship can't be determined without knowing more about the dataset. In some cities like Paris, older houses are more valuable possibly due to exclusive architecture of the house. In other areas, newer houses are more expensive than older houses. So this variable's effects canot be judged till further information is obtained.\n",
    "    * Owner - having a previous owner of the house should have no effect on the selling price.\n",
    "    * Pool - Having a pool is usually a luxury and might increase the price of the house.\n",
    "    * Traditional - Again, this variable may or may not have a positive effect on the price of the house. The argument for this is similar to the one for Age.\n",
    "    * Fireplace - Fireplace might not affect the selling price of the house as it is usually added in modern homes for asthetic reasons. However, if this dataset is talking about housing prices in a remote cold area then the presence of a fireplace might increase the house price.\n",
    "    * Waterfront - Waterfront might increase the value of the house as it is considered to add to the overall appeal of the house."
   ]
  },
  {
   "cell_type": "code",
   "execution_count": 154,
   "metadata": {},
   "outputs": [
    {
     "data": {
      "text/html": [
       "<div>\n",
       "<style scoped>\n",
       "    .dataframe tbody tr th:only-of-type {\n",
       "        vertical-align: middle;\n",
       "    }\n",
       "\n",
       "    .dataframe tbody tr th {\n",
       "        vertical-align: top;\n",
       "    }\n",
       "\n",
       "    .dataframe thead th {\n",
       "        text-align: right;\n",
       "    }\n",
       "</style>\n",
       "<table border=\"1\" class=\"dataframe\">\n",
       "  <thead>\n",
       "    <tr style=\"text-align: right;\">\n",
       "      <th></th>\n",
       "      <th>price</th>\n",
       "      <th>sqft</th>\n",
       "      <th>Bedrooms</th>\n",
       "      <th>Baths</th>\n",
       "      <th>Age</th>\n",
       "      <th>Owner</th>\n",
       "      <th>Pool</th>\n",
       "      <th>Traditional</th>\n",
       "      <th>Fireplace</th>\n",
       "      <th>Waterfront</th>\n",
       "    </tr>\n",
       "  </thead>\n",
       "  <tbody>\n",
       "    <tr>\n",
       "      <th>count</th>\n",
       "      <td>1.080000e+03</td>\n",
       "      <td>1080.000000</td>\n",
       "      <td>1080.000000</td>\n",
       "      <td>1080.000000</td>\n",
       "      <td>1080.000000</td>\n",
       "      <td>1080.000000</td>\n",
       "      <td>1080.000000</td>\n",
       "      <td>1080.000000</td>\n",
       "      <td>1080.000000</td>\n",
       "      <td>1080.000000</td>\n",
       "    </tr>\n",
       "    <tr>\n",
       "      <th>mean</th>\n",
       "      <td>1.548632e+05</td>\n",
       "      <td>2325.937963</td>\n",
       "      <td>3.179630</td>\n",
       "      <td>1.973148</td>\n",
       "      <td>19.574074</td>\n",
       "      <td>0.488889</td>\n",
       "      <td>0.079630</td>\n",
       "      <td>0.538889</td>\n",
       "      <td>0.562963</td>\n",
       "      <td>0.072222</td>\n",
       "    </tr>\n",
       "    <tr>\n",
       "      <th>std</th>\n",
       "      <td>1.229128e+05</td>\n",
       "      <td>1008.097991</td>\n",
       "      <td>0.709496</td>\n",
       "      <td>0.612067</td>\n",
       "      <td>17.194253</td>\n",
       "      <td>0.500108</td>\n",
       "      <td>0.270844</td>\n",
       "      <td>0.498716</td>\n",
       "      <td>0.496250</td>\n",
       "      <td>0.258975</td>\n",
       "    </tr>\n",
       "    <tr>\n",
       "      <th>min</th>\n",
       "      <td>2.200000e+04</td>\n",
       "      <td>662.000000</td>\n",
       "      <td>1.000000</td>\n",
       "      <td>1.000000</td>\n",
       "      <td>1.000000</td>\n",
       "      <td>0.000000</td>\n",
       "      <td>0.000000</td>\n",
       "      <td>0.000000</td>\n",
       "      <td>0.000000</td>\n",
       "      <td>0.000000</td>\n",
       "    </tr>\n",
       "    <tr>\n",
       "      <th>25%</th>\n",
       "      <td>9.900000e+04</td>\n",
       "      <td>1604.500000</td>\n",
       "      <td>3.000000</td>\n",
       "      <td>2.000000</td>\n",
       "      <td>5.000000</td>\n",
       "      <td>0.000000</td>\n",
       "      <td>0.000000</td>\n",
       "      <td>0.000000</td>\n",
       "      <td>0.000000</td>\n",
       "      <td>0.000000</td>\n",
       "    </tr>\n",
       "    <tr>\n",
       "      <th>50%</th>\n",
       "      <td>1.300000e+05</td>\n",
       "      <td>2186.500000</td>\n",
       "      <td>3.000000</td>\n",
       "      <td>2.000000</td>\n",
       "      <td>18.000000</td>\n",
       "      <td>0.000000</td>\n",
       "      <td>0.000000</td>\n",
       "      <td>1.000000</td>\n",
       "      <td>1.000000</td>\n",
       "      <td>0.000000</td>\n",
       "    </tr>\n",
       "    <tr>\n",
       "      <th>75%</th>\n",
       "      <td>1.701625e+05</td>\n",
       "      <td>2800.000000</td>\n",
       "      <td>4.000000</td>\n",
       "      <td>2.000000</td>\n",
       "      <td>25.000000</td>\n",
       "      <td>1.000000</td>\n",
       "      <td>0.000000</td>\n",
       "      <td>1.000000</td>\n",
       "      <td>1.000000</td>\n",
       "      <td>0.000000</td>\n",
       "    </tr>\n",
       "    <tr>\n",
       "      <th>max</th>\n",
       "      <td>1.580000e+06</td>\n",
       "      <td>7897.000000</td>\n",
       "      <td>8.000000</td>\n",
       "      <td>5.000000</td>\n",
       "      <td>80.000000</td>\n",
       "      <td>1.000000</td>\n",
       "      <td>1.000000</td>\n",
       "      <td>1.000000</td>\n",
       "      <td>1.000000</td>\n",
       "      <td>1.000000</td>\n",
       "    </tr>\n",
       "  </tbody>\n",
       "</table>\n",
       "</div>"
      ],
      "text/plain": [
       "              price         sqft     Bedrooms        Baths          Age  \\\n",
       "count  1.080000e+03  1080.000000  1080.000000  1080.000000  1080.000000   \n",
       "mean   1.548632e+05  2325.937963     3.179630     1.973148    19.574074   \n",
       "std    1.229128e+05  1008.097991     0.709496     0.612067    17.194253   \n",
       "min    2.200000e+04   662.000000     1.000000     1.000000     1.000000   \n",
       "25%    9.900000e+04  1604.500000     3.000000     2.000000     5.000000   \n",
       "50%    1.300000e+05  2186.500000     3.000000     2.000000    18.000000   \n",
       "75%    1.701625e+05  2800.000000     4.000000     2.000000    25.000000   \n",
       "max    1.580000e+06  7897.000000     8.000000     5.000000    80.000000   \n",
       "\n",
       "             Owner         Pool  Traditional    Fireplace   Waterfront  \n",
       "count  1080.000000  1080.000000  1080.000000  1080.000000  1080.000000  \n",
       "mean      0.488889     0.079630     0.538889     0.562963     0.072222  \n",
       "std       0.500108     0.270844     0.498716     0.496250     0.258975  \n",
       "min       0.000000     0.000000     0.000000     0.000000     0.000000  \n",
       "25%       0.000000     0.000000     0.000000     0.000000     0.000000  \n",
       "50%       0.000000     0.000000     1.000000     1.000000     0.000000  \n",
       "75%       1.000000     0.000000     1.000000     1.000000     0.000000  \n",
       "max       1.000000     1.000000     1.000000     1.000000     1.000000  "
      ]
     },
     "execution_count": 154,
     "metadata": {},
     "output_type": "execute_result"
    }
   ],
   "source": [
    "df.describe()"
   ]
  },
  {
   "cell_type": "markdown",
   "metadata": {},
   "source": [
    "Looking at the summary statistics, the mean house has 2325.93 sqft area with ~ 3 bedrooms, 2 baths and a mean house age of 19 years."
   ]
  },
  {
   "cell_type": "markdown",
   "metadata": {},
   "source": [
    "## Building the model:\n",
    "\n",
    "Backward selection is used to determine what parameters need to be in the model. The idea behind backward selection is to start by fitting all the parameters into the model. The parameter with the highest p-value is removed and the model is refit. Again, the parameter with the highest p-value is removed and this process is repeated till there are no more parameters with p-value greater than 0.05."
   ]
  },
  {
   "cell_type": "code",
   "execution_count": 155,
   "metadata": {},
   "outputs": [
    {
     "name": "stdout",
     "output_type": "stream",
     "text": [
      "                            OLS Regression Results                            \n",
      "==============================================================================\n",
      "Dep. Variable:                  price   R-squared:                       0.638\n",
      "Model:                            OLS   Adj. R-squared:                  0.635\n",
      "Method:                 Least Squares   F-statistic:                     209.2\n",
      "Date:                Tue, 06 Mar 2018   Prob (F-statistic):          9.55e-229\n",
      "Time:                        01:03:29   Log-Likelihood:                -13641.\n",
      "No. Observations:                1080   AIC:                         2.730e+04\n",
      "Df Residuals:                    1070   BIC:                         2.735e+04\n",
      "Df Model:                           9                                         \n",
      "Covariance Type:            nonrobust                                         \n",
      "===============================================================================\n",
      "                  coef    std err          t      P>|t|      [0.025      0.975]\n",
      "-------------------------------------------------------------------------------\n",
      "Intercept   -2.529e+04   1.26e+04     -2.002      0.046   -5.01e+04    -505.977\n",
      "sqft           84.3662      3.870     21.802      0.000      76.773      91.959\n",
      "Bedrooms    -2.349e+04   4572.002     -5.137      0.000   -3.25e+04   -1.45e+04\n",
      "Baths         3.95e+04   5658.383      6.981      0.000    2.84e+04    5.06e+04\n",
      "Age          -461.7404    142.559     -3.239      0.001    -741.467    -182.014\n",
      "Owner        -774.4729   4884.450     -0.159      0.874   -1.04e+04    8809.714\n",
      "Pool        -3175.1116   8692.462     -0.365      0.715   -2.02e+04    1.39e+04\n",
      "Traditional -1.857e+04   4686.462     -3.963      0.000   -2.78e+04   -9375.105\n",
      "Fireplace   -6248.6761   5233.719     -1.194      0.233   -1.65e+04    4020.840\n",
      "Waterfront   5.336e+04   9180.691      5.813      0.000    3.53e+04    7.14e+04\n",
      "==============================================================================\n",
      "Omnibus:                     1184.745   Durbin-Watson:                   2.002\n",
      "Prob(Omnibus):                  0.000   Jarque-Bera (JB):           135977.404\n",
      "Skew:                           5.143   Prob(JB):                         0.00\n",
      "Kurtosis:                      56.999   Cond. No.                     1.48e+04\n",
      "==============================================================================\n",
      "\n",
      "Warnings:\n",
      "[1] Standard Errors assume that the covariance matrix of the errors is correctly specified.\n",
      "[2] The condition number is large, 1.48e+04. This might indicate that there are\n",
      "strong multicollinearity or other numerical problems.\n"
     ]
    }
   ],
   "source": [
    "lm = smf.ols('price ~ sqft + Bedrooms + Baths + Age + Owner + Pool + Traditional + Fireplace + Waterfront', data = df).fit()\n",
    "print(lm.summary())"
   ]
  },
  {
   "cell_type": "markdown",
   "metadata": {},
   "source": [
    "Based on the p-values above, Python's `Statsmodels` package only shows upto three decimals. The estimator with the highest p-value is chosen. So here, `Owner` can be removed from the model as it has the highest p-value of 0.874. \n",
    "The model is refit with the remaining parameters."
   ]
  },
  {
   "cell_type": "code",
   "execution_count": 156,
   "metadata": {},
   "outputs": [
    {
     "name": "stdout",
     "output_type": "stream",
     "text": [
      "                            OLS Regression Results                            \n",
      "==============================================================================\n",
      "Dep. Variable:                  price   R-squared:                       0.638\n",
      "Model:                            OLS   Adj. R-squared:                  0.635\n",
      "Method:                 Least Squares   F-statistic:                     235.5\n",
      "Date:                Tue, 06 Mar 2018   Prob (F-statistic):          6.11e-230\n",
      "Time:                        01:03:29   Log-Likelihood:                -13641.\n",
      "No. Observations:                1080   AIC:                         2.730e+04\n",
      "Df Residuals:                    1071   BIC:                         2.734e+04\n",
      "Df Model:                           8                                         \n",
      "Covariance Type:            nonrobust                                         \n",
      "===============================================================================\n",
      "                  coef    std err          t      P>|t|      [0.025      0.975]\n",
      "-------------------------------------------------------------------------------\n",
      "Intercept   -2.532e+04   1.26e+04     -2.005      0.045   -5.01e+04    -541.786\n",
      "sqft           84.3070      3.850     21.899      0.000      76.753      91.861\n",
      "Bedrooms    -2.346e+04   4567.557     -5.137      0.000   -3.24e+04   -1.45e+04\n",
      "Baths        3.945e+04   5646.308      6.987      0.000    2.84e+04    5.05e+04\n",
      "Age          -464.6377    141.318     -3.288      0.001    -741.930    -187.345\n",
      "Pool        -3223.6911   8683.106     -0.371      0.711   -2.03e+04    1.38e+04\n",
      "Traditional  -1.86e+04   4680.187     -3.975      0.000   -2.78e+04   -9418.666\n",
      "Fireplace   -6452.1825   5071.594     -1.272      0.204   -1.64e+04    3499.206\n",
      "Waterfront    5.34e+04   9174.248      5.820      0.000    3.54e+04    7.14e+04\n",
      "==============================================================================\n",
      "Omnibus:                     1185.107   Durbin-Watson:                   2.001\n",
      "Prob(Omnibus):                  0.000   Jarque-Bera (JB):           136118.499\n",
      "Skew:                           5.146   Prob(JB):                         0.00\n",
      "Kurtosis:                      57.027   Cond. No.                     1.48e+04\n",
      "==============================================================================\n",
      "\n",
      "Warnings:\n",
      "[1] Standard Errors assume that the covariance matrix of the errors is correctly specified.\n",
      "[2] The condition number is large, 1.48e+04. This might indicate that there are\n",
      "strong multicollinearity or other numerical problems.\n"
     ]
    }
   ],
   "source": [
    "lm = smf.ols('price ~ sqft + Bedrooms + Baths + Age + Pool + Traditional + Fireplace + Waterfront', data = df).fit()\n",
    "print(lm.summary())"
   ]
  },
  {
   "cell_type": "markdown",
   "metadata": {},
   "source": [
    "Next,`Pool` is removed from the model as it has the highest p-value of 0.711. The model is refit with the remaining parameters."
   ]
  },
  {
   "cell_type": "code",
   "execution_count": 157,
   "metadata": {
    "scrolled": true
   },
   "outputs": [
    {
     "name": "stdout",
     "output_type": "stream",
     "text": [
      "                            OLS Regression Results                            \n",
      "==============================================================================\n",
      "Dep. Variable:                  price   R-squared:                       0.638\n",
      "Model:                            OLS   Adj. R-squared:                  0.635\n",
      "Method:                 Least Squares   F-statistic:                     269.4\n",
      "Date:                Tue, 06 Mar 2018   Prob (F-statistic):          3.84e-231\n",
      "Time:                        01:03:29   Log-Likelihood:                -13641.\n",
      "No. Observations:                1080   AIC:                         2.730e+04\n",
      "Df Residuals:                    1072   BIC:                         2.734e+04\n",
      "Df Model:                           7                                         \n",
      "Covariance Type:            nonrobust                                         \n",
      "===============================================================================\n",
      "                  coef    std err          t      P>|t|      [0.025      0.975]\n",
      "-------------------------------------------------------------------------------\n",
      "Intercept   -2.508e+04   1.26e+04     -1.990      0.047   -4.98e+04    -346.659\n",
      "sqft           84.0943      3.805     22.099      0.000      76.627      91.561\n",
      "Bedrooms    -2.339e+04   4561.633     -5.128      0.000   -3.23e+04   -1.44e+04\n",
      "Baths        3.935e+04   5637.562      6.980      0.000    2.83e+04    5.04e+04\n",
      "Age          -467.6863    141.023     -3.316      0.001    -744.399    -190.974\n",
      "Traditional -1.852e+04   4673.109     -3.963      0.000   -2.77e+04   -9350.696\n",
      "Fireplace   -6462.9957   5069.471     -1.275      0.203   -1.64e+04    3484.215\n",
      "Waterfront    5.33e+04   9166.682      5.814      0.000    3.53e+04    7.13e+04\n",
      "==============================================================================\n",
      "Omnibus:                     1185.834   Durbin-Watson:                   2.002\n",
      "Prob(Omnibus):                  0.000   Jarque-Bera (JB):           136524.174\n",
      "Skew:                           5.150   Prob(JB):                         0.00\n",
      "Kurtosis:                      57.109   Cond. No.                     1.48e+04\n",
      "==============================================================================\n",
      "\n",
      "Warnings:\n",
      "[1] Standard Errors assume that the covariance matrix of the errors is correctly specified.\n",
      "[2] The condition number is large, 1.48e+04. This might indicate that there are\n",
      "strong multicollinearity or other numerical problems.\n"
     ]
    }
   ],
   "source": [
    "lm = smf.ols('price ~ sqft + Bedrooms + Baths + Age + Traditional + Fireplace + Waterfront', data = df).fit()\n",
    "print(lm.summary())"
   ]
  },
  {
   "cell_type": "markdown",
   "metadata": {},
   "source": [
    "Now, `Fireplace` gets removed as it has the highest p-value of 0.203 and the model is refit with the remaining parameters."
   ]
  },
  {
   "cell_type": "code",
   "execution_count": 158,
   "metadata": {},
   "outputs": [
    {
     "name": "stdout",
     "output_type": "stream",
     "text": [
      "                            OLS Regression Results                            \n",
      "==============================================================================\n",
      "Dep. Variable:                  price   R-squared:                       0.637\n",
      "Model:                            OLS   Adj. R-squared:                  0.635\n",
      "Method:                 Least Squares   F-statistic:                     313.8\n",
      "Date:                Tue, 06 Mar 2018   Prob (F-statistic):          4.67e-232\n",
      "Time:                        01:03:29   Log-Likelihood:                -13642.\n",
      "No. Observations:                1080   AIC:                         2.730e+04\n",
      "Df Residuals:                    1073   BIC:                         2.733e+04\n",
      "Df Model:                           6                                         \n",
      "Covariance Type:            nonrobust                                         \n",
      "===============================================================================\n",
      "                  coef    std err          t      P>|t|      [0.025      0.975]\n",
      "-------------------------------------------------------------------------------\n",
      "Intercept    -2.71e+04   1.25e+04     -2.167      0.030   -5.16e+04   -2555.713\n",
      "sqft           83.0968      3.725     22.307      0.000      75.787      90.406\n",
      "Bedrooms     -2.29e+04   4546.411     -5.036      0.000   -3.18e+04    -1.4e+04\n",
      "Baths        3.848e+04   5597.952      6.874      0.000    2.75e+04    4.95e+04\n",
      "Age          -442.1004    139.628     -3.166      0.002    -716.076    -168.125\n",
      "Traditional  -1.79e+04   4649.192     -3.850      0.000    -2.7e+04   -8778.886\n",
      "Waterfront   5.338e+04   9169.115      5.822      0.000    3.54e+04    7.14e+04\n",
      "==============================================================================\n",
      "Omnibus:                     1196.702   Durbin-Watson:                   1.999\n",
      "Prob(Omnibus):                  0.000   Jarque-Bera (JB):           141040.059\n",
      "Skew:                           5.227   Prob(JB):                         0.00\n",
      "Kurtosis:                      57.999   Cond. No.                     1.47e+04\n",
      "==============================================================================\n",
      "\n",
      "Warnings:\n",
      "[1] Standard Errors assume that the covariance matrix of the errors is correctly specified.\n",
      "[2] The condition number is large, 1.47e+04. This might indicate that there are\n",
      "strong multicollinearity or other numerical problems.\n"
     ]
    }
   ],
   "source": [
    "lm = smf.ols('price ~ sqft + Bedrooms + Baths + Age + Traditional + Waterfront', data = df).fit()\n",
    "print(lm.summary())"
   ]
  },
  {
   "cell_type": "markdown",
   "metadata": {},
   "source": [
    "Based on the above table, there are no parameters left with p-values larger than 0.05. So this becomes the final model:\n",
    "\n",
    "$$ price = sqft + Bedrooms + Baths + Age + Traditional + Waterfront $$\n"
   ]
  },
  {
   "cell_type": "markdown",
   "metadata": {},
   "source": [
    "The backward selection process tied in with the previous guess that `Fireplace` and `Owner` might be insignficant variables for sale price. `Pool` which was guessed to be insignificant was however too discarded by backward selection.\n",
    "\n",
    "For further understanding of the variables removed using backward selection, the relationship between these variables and `price` need to be observed. Very little to no relationship between `Price` and the estimators that were removed are most likely. A scatterplot is a quick and easy way to see if any relationship exists."
   ]
  },
  {
   "cell_type": "markdown",
   "metadata": {},
   "source": [
    "### 1. `Price` and `Owner`"
   ]
  },
  {
   "cell_type": "code",
   "execution_count": 159,
   "metadata": {},
   "outputs": [
    {
     "data": {
      "text/plain": [
       "Text(0.5,1,'Price vs Owner')"
      ]
     },
     "execution_count": 159,
     "metadata": {},
     "output_type": "execute_result"
    },
    {
     "data": {
      "image/png": "[encoded data removed]",
      "text/plain": [
       "<matplotlib.figure.Figure at 0x11cbf7f28>"
      ]
     },
     "metadata": {},
     "output_type": "display_data"
    }
   ],
   "source": [
    "plt.scatter(df.price, df.Owner)\n",
    "plt.title(\"Price vs Owner\")"
   ]
  },
  {
   "cell_type": "markdown",
   "metadata": {},
   "source": [
    "### 2. `Price` and `Pool`"
   ]
  },
  {
   "cell_type": "code",
   "execution_count": 160,
   "metadata": {},
   "outputs": [
    {
     "data": {
      "text/plain": [
       "Text(0.5,1,'Price vs Pool')"
      ]
     },
     "execution_count": 160,
     "metadata": {},
     "output_type": "execute_result"
    },
    {
     "data": {
      "image/png": "[encoded data removed]",
      "text/plain": [
       "<matplotlib.figure.Figure at 0x11d024dd8>"
      ]
     },
     "metadata": {},
     "output_type": "display_data"
    }
   ],
   "source": [
    "plt.scatter(df.price, df.Pool)\n",
    "plt.title(\"Price vs Pool\")"
   ]
  },
  {
   "cell_type": "markdown",
   "metadata": {},
   "source": [
    "### 3. `Price` and `Fireplace` "
   ]
  },
  {
   "cell_type": "code",
   "execution_count": 161,
   "metadata": {},
   "outputs": [
    {
     "data": {
      "text/plain": [
       "Text(0.5,1,'Price vs Fireplace')"
      ]
     },
     "execution_count": 161,
     "metadata": {},
     "output_type": "execute_result"
    },
    {
     "data": {
      "image/png": "[encoded data removed]",
      "text/plain": [
       "<matplotlib.figure.Figure at 0x11a9b1550>"
      ]
     },
     "metadata": {},
     "output_type": "display_data"
    }
   ],
   "source": [
    "plt.scatter(df.price, df.Fireplace)\n",
    "plt.title(\"Price vs Fireplace\")"
   ]
  },
  {
   "cell_type": "markdown",
   "metadata": {},
   "source": [
    "Based on all the three scatterplots above, it seems that there is no real relationship between `Price` and the variables removed. This visual check can verify our backward selection process to an extent."
   ]
  },
  {
   "cell_type": "markdown",
   "metadata": {},
   "source": [
    "## Testing for Heteroskedasticity"
   ]
  },
  {
   "cell_type": "markdown",
   "metadata": {},
   "source": [
    "The next step would be to test for heteroskedasticity. Heteroskedasticity occurs when the variance for all observations in a data set are not the same. There are a two main important consequences of heteroskedasticity:\n",
    "* The least squares estimator is linear and unbiased, but it is no longer the best.\n",
    "* The standard errors computed for the least squares estimators are incorrect. This can affect confidence intervals and hypothesis testing that use those standard errors, which could lead to misleading conclusions."
   ]
  },
  {
   "cell_type": "markdown",
   "metadata": {},
   "source": [
    "### Residual Plot\n",
    "The first method of detecting heteroskedasticity would be through residual plots."
   ]
  },
  {
   "cell_type": "code",
   "execution_count": 162,
   "metadata": {},
   "outputs": [
    {
     "data": {
      "text/plain": [
       "Text(0.5,1,'Residuals vs Fitted Line')"
      ]
     },
     "execution_count": 162,
     "metadata": {},
     "output_type": "execute_result"
    },
    {
     "data": {
      "image/png": "[encoded data removed]",
      "text/plain": [
       "<matplotlib.figure.Figure at 0x11d07b390>"
      ]
     },
     "metadata": {},
     "output_type": "display_data"
    }
   ],
   "source": [
    "residuals = lm.resid\n",
    "plt.scatter(lm.predict(), residuals)\n",
    "plt.title('Residuals vs Fitted Line')"
   ]
  },
  {
   "cell_type": "markdown",
   "metadata": {},
   "source": [
    "From the graph it seems like the residuals are increasing as the number of fitted values are increasing. This suggests heteroskedasticity. But a more scientific test will be needed to prove this."
   ]
  },
  {
   "cell_type": "markdown",
   "metadata": {},
   "source": [
    "### Breusch–Pagan Test\n",
    "The Breusch-Pagan Test is a more formal way of testing for heteroskedasticity. A variance function gets defined and the null and alternate hypothesis are tested. If we accept this null hypothesis, then we consider our model to have homoskedasticity and if we reject the null hypothesis then we accept our model to have heteroskedasticity. Again, a siginificance level of 0.05 for the p-value is considered."
   ]
  },
  {
   "cell_type": "code",
   "execution_count": 163,
   "metadata": {},
   "outputs": [
    {
     "data": {
      "text/plain": [
       "[('Lagrange multiplier statistic', 218.11681280389115),\n",
       " ('p-value', 2.62293900602858e-44),\n",
       " ('f-value', 45.25735885005397),\n",
       " ('f p-value', 1.6355986670638636e-49)]"
      ]
     },
     "execution_count": 163,
     "metadata": {},
     "output_type": "execute_result"
    }
   ],
   "source": [
    "name = ['Lagrange multiplier statistic', 'p-value', \n",
    "        'f-value', 'f p-value']\n",
    "bp_test = sms.het_breuschpagan(residuals, lm.model.exog)\n",
    "list(zip(name, bp_test))"
   ]
  },
  {
   "cell_type": "markdown",
   "metadata": {},
   "source": [
    "From the results table above, the p-value is:\n",
    "`2.62293900602858e-44 << 0.05`\n",
    "Because the p-value is less than the chosen significance level of 0.05, we reject the null hypothesis and conclude that our model `price ~ sqft + Bedrooms + Baths + Age + Traditional + Waterfront` has heteroskedasticity."
   ]
  },
  {
   "cell_type": "markdown",
   "metadata": {},
   "source": [
    "## Resolving Heteroskedasticity"
   ]
  },
  {
   "cell_type": "markdown",
   "metadata": {},
   "source": [
    "The first problem of heteroskedasticity was that the least square estimator was no longer the best estimator despite being linear and unbiased. To deal with this problem, we could continue to use the least squares estimator but add in `Robust Standard Errors`.\n",
    "\n",
    "The variance in the homoskedastic case is:\n",
    "\n",
    "\\begin{aligned}\n",
    "var(b_2)=\\frac{\\sum_{i=1}^{N}\\big[\\sigma_i^2\\big]}{\\big[\\sum_{i=1}^{N}(x_i-\\bar{x})^2\\big]}\n",
    "\\end{aligned}\n",
    "\n",
    "And the Robust Standard Error can be shown by:\n",
    "\\begin{aligned}\n",
    "\\hat{var(b_2)}=\\frac{N}{N-k} \\frac{\\sum_{i=1}^N\\big[(x_i-\\bar{x})^2\\hat{e}_i^2\\big]}{\\big[\\sum_{i=1}^N(x_i-\\bar{x})^2\\big]^2}\n",
    "\\end{aligned}"
   ]
  },
  {
   "cell_type": "markdown",
   "metadata": {},
   "source": [
    "To see what the standard errors look like with the White Robust Error:"
   ]
  },
  {
   "cell_type": "code",
   "execution_count": 164,
   "metadata": {},
   "outputs": [
    {
     "data": {
      "text/plain": [
       "Intercept      17720.941330\n",
       "sqft              10.985143\n",
       "Bedrooms        7090.484047\n",
       "Baths           9941.538427\n",
       "Age              143.192550\n",
       "Traditional     4094.463150\n",
       "Waterfront     17586.226746\n",
       "dtype: float64"
      ]
     },
     "execution_count": 164,
     "metadata": {},
     "output_type": "execute_result"
    }
   ],
   "source": [
    "lm.HC0_se"
   ]
  },
  {
   "cell_type": "markdown",
   "metadata": {},
   "source": [
    "The following table below shows the comparison between the standard errors with the Robust Standard Errors and the Standard Errors from the Ordinary Least Squares:"
   ]
  },
  {
   "cell_type": "code",
   "execution_count": 165,
   "metadata": {},
   "outputs": [
    {
     "name": "stdout",
     "output_type": "stream",
     "text": [
      "==============================================================================\n",
      "        Intercept    sqft   Bedrooms   Baths     Age    Traditional Waterfront\n",
      "------------------------------------------------------------------------------\n",
      "OLS     12508.0349  3.7252 4546.4115 5597.9525 139.6283  4649.1919  9169.1147 \n",
      "OLS_HC0 17720.9413 10.9851  7090.484 9941.5384 143.1926  4094.4631  17586.2267\n",
      "------------------------------------------------------------------------------\n"
     ]
    }
   ],
   "source": [
    "lm.bse\n",
    "se = np.vstack([[lm.bse], [lm.HC0_se]])\n",
    "se = np.round(se,4)\n",
    "colnames = ['Intercept', 'sqft', 'Bedrooms', 'Baths', 'Age', 'Traditional', 'Waterfront']\n",
    "rownames = ['OLS', 'OLS_HC0']\n",
    "tabl = SimpleTable(se, colnames, rownames, txt_fmt=default_txt_fmt)\n",
    "print(tabl)"
   ]
  },
  {
   "cell_type": "markdown",
   "metadata": {},
   "source": [
    "We can see that the Robust Standard errors are indeed different from the OLS standard errors. The Robust Standard Errors are larger than the OLS Standard Errors possibly due to the fact that the variance of the error terms might be higher when the estimator is far from its mean."
   ]
  },
  {
   "cell_type": "markdown",
   "metadata": {},
   "source": [
    "### Generalized Least Squares With Unknown Form of Variance\n"
   ]
  },
  {
   "cell_type": "markdown",
   "metadata": {},
   "source": [
    "When heteroskedasticity is present, the best linear unbiased estimator depends on the unknown $\\sigma_i^2$. This estimator is referred to as the generalized least squares estimator. When the ordinary least squares estimator is no longer BLUE, this problem is solved by transforming the model into one with homoskedastic errors."
   ]
  },
  {
   "cell_type": "code",
   "execution_count": 169,
   "metadata": {
    "scrolled": true
   },
   "outputs": [
    {
     "name": "stdout",
     "output_type": "stream",
     "text": [
      "                            GLS Regression Results                            \n",
      "==============================================================================\n",
      "Dep. Variable:                  price   R-squared:                       0.674\n",
      "Model:                            GLS   Adj. R-squared:                  0.672\n",
      "Method:                 Least Squares   F-statistic:                     369.2\n",
      "Date:                Tue, 06 Mar 2018   Prob (F-statistic):          8.08e-257\n",
      "Time:                        01:04:24   Log-Likelihood:                -13801.\n",
      "No. Observations:                1080   AIC:                         2.762e+04\n",
      "Df Residuals:                    1073   BIC:                         2.765e+04\n",
      "Df Model:                           6                                         \n",
      "Covariance Type:            nonrobust                                         \n",
      "===============================================================================\n",
      "                  coef    std err          t      P>|t|      [0.025      0.975]\n",
      "-------------------------------------------------------------------------------\n",
      "Intercept   -3.481e+04   1.42e+04     -2.458      0.014   -6.26e+04   -7024.304\n",
      "sqft           90.3398      4.072     22.188      0.000      82.351      98.329\n",
      "Bedrooms    -2.867e+04   5108.641     -5.612      0.000   -3.87e+04   -1.86e+04\n",
      "Baths        4.287e+04   6264.959      6.844      0.000    3.06e+04    5.52e+04\n",
      "Age          -465.8547    158.646     -2.936      0.003    -777.146    -154.563\n",
      "Traditional -1.961e+04   5329.173     -3.680      0.000   -3.01e+04   -9153.254\n",
      "Waterfront   6.242e+04   1.02e+04      6.139      0.000    4.25e+04    8.24e+04\n",
      "==============================================================================\n",
      "Omnibus:                     1211.144   Durbin-Watson:                   2.043\n",
      "Prob(Omnibus):                  0.000   Jarque-Bera (JB):           165018.501\n",
      "Skew:                           5.279   Prob(JB):                         0.00\n",
      "Kurtosis:                      62.629   Cond. No.                     1.52e+04\n",
      "==============================================================================\n",
      "\n",
      "Warnings:\n",
      "[1] Standard Errors assume that the covariance matrix of the errors is correctly specified.\n",
      "[2] The condition number is large, 1.52e+04. This might indicate that there are\n",
      "strong multicollinearity or other numerical problems.\n"
     ]
    }
   ],
   "source": [
    "y, X = patsy.dmatrices('price ~ sqft + Bedrooms + Baths + Age + Traditional + Waterfront', data=df, return_type='dataframe')\n",
    "residuals = lm.resid\n",
    "var = smf.ols('residuals ~ sqft + Bedrooms + Baths + Age + Traditional + Waterfront', data=df).fit()\n",
    "fitted_var = var.fittedvalues\n",
    "fitted_var = fitted_var.values\n",
    "w = 1/(abs(fitted_var))**(0.5)\n",
    "gls = sm.GLS(y, X, w).fit()\n",
    "print(gls.summary())"
   ]
  },
  {
   "cell_type": "markdown",
   "metadata": {},
   "source": [
    "The GLS should be the one with the smallest variance but from the table above, it has a larger varaiance than the OLS. This could be because the weights that were manually specified are incorrect. From the scatter plot below, it is still evident that the heteroskedasticity has not been corrected. "
   ]
  },
  {
   "cell_type": "code",
   "execution_count": 173,
   "metadata": {},
   "outputs": [
    {
     "data": {
      "text/plain": [
       "Text(0.5,1,'Residuals vs Fitted Line for GLS')"
      ]
     },
     "execution_count": 173,
     "metadata": {},
     "output_type": "execute_result"
    },
    {
     "data": {
      "image/png": "[encoded data removed]",
      "text/plain": [
       "<matplotlib.figure.Figure at 0x11d37f9e8>"
      ]
     },
     "metadata": {},
     "output_type": "display_data"
    }
   ],
   "source": [
    "gls_residuals = gls.resid\n",
    "plt.scatter(gls.predict(), gls_residuals)\n",
    "plt.title('Residuals vs Fitted Line for GLS')"
   ]
  },
  {
   "cell_type": "markdown",
   "metadata": {},
   "source": [
    "## Conclusion:"
   ]
  },
  {
   "cell_type": "markdown",
   "metadata": {},
   "source": [
    "Heteroskedasticity occurs when the variance for all observations are not the same. To detect heteroskedasticity, one can plot the least squares residuals against the independent variables. A more formal way of identifying heteroskedasticity is by conducting a Breusch-Pagan test, where we estimate a variance function that depends on the independent variable(s), and test the null hypothesis that heteroskedasticity is not present against the alternative that heteroskedasticity is present. \n",
    "\n",
    "In this housing price example, the explanatory variables used are `sqft`, `Bedrooms`, `Baths`, `Age`, `Traditional` and `Waterfront`. Heteroskedasticity was detected and attempts were made to correct it. Unsuccessful attempts could be due to the incorrect weights used in the GLS. This is confirmed by the GLS scatterplot which still shows for heteroskedasticity."
   ]
  }
 ],
 "metadata": {
  "kernelspec": {
   "display_name": "Python 3",
   "language": "python",
   "name": "python3"
  },
  "language_info": {
   "codemirror_mode": {
    "name": "ipython",
    "version": 3
   },
   "file_extension": ".py",
   "mimetype": "text/x-python",
   "name": "python",
   "nbconvert_exporter": "python",
   "pygments_lexer": "ipython3",
   "version": "3.6.4"
  }
 },
 "nbformat": 4,
 "nbformat_minor": 2
}
